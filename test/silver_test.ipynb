{
 "cells": [
  {
   "cell_type": "markdown",
   "metadata": {},
   "source": [
    "### Test Silver layer"
   ]
  },
  {
   "cell_type": "code",
   "execution_count": 2,
   "metadata": {},
   "outputs": [
    {
     "name": "stderr",
     "output_type": "stream",
     "text": [
      "24/03/14 10:33:24 WARN Utils: Service 'SparkUI' could not bind on port 4040. Attempting port 4041.\n",
      "24/03/14 10:33:24 WARN Utils: Service 'SparkUI' could not bind on port 4041. Attempting port 4042.\n",
      "24/03/14 10:33:24 WARN Utils: Service 'SparkUI' could not bind on port 4042. Attempting port 4043.\n",
      "24/03/14 10:33:24 WARN Utils: Service 'SparkUI' could not bind on port 4043. Attempting port 4044.\n",
      "24/03/14 10:33:24 WARN Utils: Service 'SparkUI' could not bind on port 4044. Attempting port 4045.\n",
      "24/03/14 10:33:24 WARN Utils: Service 'SparkUI' could not bind on port 4045. Attempting port 4046.\n",
      "24/03/14 10:33:24 WARN Utils: Service 'SparkUI' could not bind on port 4046. Attempting port 4047.\n",
      "24/03/14 10:33:24 WARN Utils: Service 'SparkUI' could not bind on port 4047. Attempting port 4048.\n",
      "2024-03-14 10:33:25,792: INFO: Spark session for Silver layer testing initialized.\n",
      "test_schema_and_data_validation (__main__.SparkSilverLayerTests.test_schema_and_data_validation) ... 2024-03-14 10:33:25,793: INFO: Starting schema and data validation tests for Silver layer\n",
      "2024-03-14 10:33:25,854: INFO: Schema validation for locations_cleaned passed.\n",
      "2024-03-14 10:33:26,249: INFO: Data loading for locations_cleaned passed.\n",
      "2024-03-14 10:33:26,301: INFO: Schema validation for rural_lookup_full_CL_cleaned passed.\n",
      "2024-03-14 10:33:26,977: INFO: Data loading for rural_lookup_full_CL_cleaned passed.\n",
      "2024-03-14 10:33:27,011: INFO: Schema validation for lookup_full_cleaned passed.\n",
      "2024-03-14 10:33:27,545: INFO: Data loading for lookup_full_cleaned passed.\n",
      "ok\n",
      "2024-03-14 10:33:27,659: INFO: Spark session stopped.\n",
      "\n",
      "----------------------------------------------------------------------\n",
      "Ran 1 test in 3.166s\n",
      "\n",
      "OK\n"
     ]
    }
   ],
   "source": [
    "import unittest\n",
    "import logging\n",
    "from pyspark.sql import SparkSession\n",
    "from pyspark.sql.types import StructType, StructField, StringType, DoubleType\n",
    "\n",
    "# Configure logging\n",
    "logging.basicConfig(level=logging.INFO, format='%(asctime)s: %(levelname)s: %(message)s')\n",
    "\n",
    "class SparkSilverLayerTests(unittest.TestCase):\n",
    "\n",
    "    @classmethod\n",
    "    def setUpClass(cls):\n",
    "        # Initialize Spark Session for Testing\n",
    "        cls.spark = SparkSession.builder \\\n",
    "            .appName(\"Data Pipeline Testing - Silver Layer\") \\\n",
    "            .config(\"spark.jars.packages\", \"com.crealytics:spark-excel_2.12:0.13.1\") \\\n",
    "            .getOrCreate()\n",
    "        logging.info(\"Spark session for Silver layer testing initialized.\")\n",
    "\n",
    "        # Base directory where CSV files are located\n",
    "        cls.base_dir = \"/Users/mansurcan/Documents/ITC/Lloyds/Silver/\"\n",
    "\n",
    "        # Define the expected schemas for tables\n",
    "        cls.expected_schemas = {\n",
    "            \"locations_cleaned\": StructType([\n",
    "                StructField(\"LocationId\", StringType(), True),\n",
    "                StructField(\"OrganisationID\", StringType(), True),\n",
    "                StructField(\"LocationPostCode_clean\", StringType(), True)\n",
    "            ]),\n",
    "            \"rural_lookup_full_CL_cleaned\": StructType([\n",
    "                StructField(\"pcds_clean\", StringType(), True),\n",
    "                StructField(\"ladnm\", StringType(), True)\n",
    "            ]),\n",
    "            \"lookup_full_cleaned\": StructType([\n",
    "                StructField(\"pcds_clean\", StringType(), True),\n",
    "                StructField(\"ru11ind\", StringType(), True),\n",
    "                StructField(\"lat\", DoubleType(), True),\n",
    "                StructField(\"long\", DoubleType(), True)\n",
    "            ])\n",
    "        }\n",
    "\n",
    "    def test_schema_and_data_validation(self):\n",
    "        logging.info(\"Starting schema and data validation tests for Silver layer\")\n",
    "        for table_name, expected_schema in self.expected_schemas.items():\n",
    "            df = self.spark.read \\\n",
    "                .schema(expected_schema) \\\n",
    "                .csv(f\"{self.base_dir}/{table_name}.csv\", header=True)\n",
    "\n",
    "            # Validate schema\n",
    "            self.assertEqual(df.schema, expected_schema, f\"Schema for {table_name} does not match the expected schema\")\n",
    "            logging.info(f\"Schema validation for {table_name} passed.\")\n",
    "\n",
    "            # Validate data is not empty\n",
    "            self.assertGreater(df.count(), 0, f\"DataFrame for {table_name} is empty\")\n",
    "            logging.info(f\"Data loading for {table_name} passed.\")\n",
    "\n",
    "    @classmethod\n",
    "    def tearDownClass(cls):\n",
    "        cls.spark.stop()\n",
    "        logging.info(\"Spark session stopped.\")\n",
    "\n",
    "# Define a main function to run the tests\n",
    "def run_tests():\n",
    "    suite = unittest.TestLoader().loadTestsFromTestCase(SparkSilverLayerTests)\n",
    "    runner = unittest.TextTestRunner(verbosity=2)\n",
    "    runner.run(suite)\n",
    "\n",
    "# Execute the tests\n",
    "run_tests()\n"
   ]
  }
 ],
 "metadata": {
  "kernelspec": {
   "display_name": "env",
   "language": "python",
   "name": "python3"
  },
  "language_info": {
   "codemirror_mode": {
    "name": "ipython",
    "version": 3
   },
   "file_extension": ".py",
   "mimetype": "text/x-python",
   "name": "python",
   "nbconvert_exporter": "python",
   "pygments_lexer": "ipython3",
   "version": "3.11.7"
  }
 },
 "nbformat": 4,
 "nbformat_minor": 2
}
