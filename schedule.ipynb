{
 "cells": [
  {
   "cell_type": "markdown",
   "metadata": {},
   "source": [
    "#### Schedule the execution of the pipelines in order for every hour"
   ]
  },
  {
   "cell_type": "code",
   "execution_count": null,
   "metadata": {},
   "outputs": [],
   "source": [
    "import nbformat\n",
    "import schedule\n",
    "import time\n",
    "from nbconvert.preprocessors import ExecutePreprocessor\n",
    "\n",
    "# Define paths to notebooks\n",
    "notebook_paths = [\n",
    "    'bronze.ipynb',\n",
    "    'silver.ipynb',\n",
    "    'gold.ipynb',\n",
    "    'test/bronze_test.ipynb',\n",
    "    'test/silver_test.ipynb'\n",
    "]\n",
    "\n",
    "def execute_notebook(path):\n",
    "    try:\n",
    "        # Open and read the notebook\n",
    "        with open(path, 'r', encoding='utf-8') as f:\n",
    "            nb = nbformat.read(f, as_version=4)\n",
    "            ep = ExecutePreprocessor(timeout=600, kernel_name='python3')\n",
    "            \n",
    "            # Execute the notebook\n",
    "            ep.preprocess(nb, {'metadata': {'path': './'}})\n",
    "            print(f\"Successfully executed {path}\")\n",
    "    except Exception as e:\n",
    "        print(f\"Error executing the notebook {path}. Error: {e}\")\n",
    "\n",
    "def run_notebooks():\n",
    "    for path in notebook_paths:\n",
    "        execute_notebook(path)\n",
    "\n",
    "# Schedule the notebook execution every hour\n",
    "schedule.every().hour.do(run_notebooks)\n",
    "\n",
    "if __name__ == '__main__':\n",
    "    # Make sure to import nbformat\n",
    "    import nbformat\n",
    "    \n",
    "    # Run the scheduled task\n",
    "    while True:\n",
    "        schedule.run_pending()\n",
    "        time.sleep(1)\n"
   ]
  },
  {
   "cell_type": "markdown",
   "metadata": {},
   "source": [
    "#### Execute the pipelines in order immediately"
   ]
  },
  {
   "cell_type": "code",
   "execution_count": null,
   "metadata": {},
   "outputs": [],
   "source": [
    "import nbformat\n",
    "import schedule\n",
    "import time\n",
    "from nbconvert.preprocessors import ExecutePreprocessor\n",
    "\n",
    "# Define paths to notebooks\n",
    "notebook_paths = [\n",
    "    'bronze.ipynb',\n",
    "    'test/bronze_test.ipynb',\n",
    "    'silver.ipynb',\n",
    "    'test/silver_test.ipynb'\n",
    "    'gold.ipynb',\n",
    "]\n",
    "\n",
    "def execute_notebook(path):\n",
    "    try:\n",
    "        # Open and read the notebook\n",
    "        with open(path, 'r', encoding='utf-8') as f:\n",
    "            nb = nbformat.read(f, as_version=4)\n",
    "            ep = ExecutePreprocessor(timeout=600, kernel_name='python3')\n",
    "            \n",
    "            # Execute the notebook\n",
    "            ep.preprocess(nb, {'metadata': {'path': './'}})\n",
    "            print(f\"Successfully executed {path}\")\n",
    "    except Exception as e:\n",
    "        print(f\"Error executing the notebook {path}. Error: {e}\")\n",
    "\n",
    "def run_notebooks():\n",
    "    for path in notebook_paths:\n",
    "        execute_notebook(path)\n",
    "\n",
    "if __name__ == '__main__':\n",
    "    # Execute the notebooks immediately for testing\n",
    "    run_notebooks()\n",
    "    \n",
    "    # Then set up the hourly schedule\n",
    "    schedule.every().hour.do(run_notebooks)\n",
    "    \n",
    "    # Run the scheduled task\n",
    "    while True:\n",
    "        schedule.run_pending()\n",
    "        time.sleep(1)\n"
   ]
  }
 ],
 "metadata": {
  "kernelspec": {
   "display_name": "env",
   "language": "python",
   "name": "python3"
  },
  "language_info": {
   "codemirror_mode": {
    "name": "ipython",
    "version": 3
   },
   "file_extension": ".py",
   "mimetype": "text/x-python",
   "name": "python",
   "nbconvert_exporter": "python",
   "pygments_lexer": "ipython3",
   "version": "3.11.7"
  }
 },
 "nbformat": 4,
 "nbformat_minor": 2
}
